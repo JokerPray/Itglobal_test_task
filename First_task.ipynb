{
 "cells": [
  {
   "cell_type": "code",
   "execution_count": 1,
   "id": "7e7fcfd5-869e-4803-a4df-3c1825b9ee1d",
   "metadata": {},
   "outputs": [],
   "source": [
    "import cv2\n",
    "import numpy as np"
   ]
  },
  {
   "cell_type": "code",
   "execution_count": 2,
   "id": "811ea609-8677-4e12-8cdc-5747ca0004d9",
   "metadata": {},
   "outputs": [],
   "source": [
    "cap = cv2.VideoCapture('C:/Users/Romanum33/Testing/1111.mp4')\n",
    "backSub = cv2.createBackgroundSubtractorMOG2()\n",
    "if not cap.isOpened():\n",
    "    print(\"Error opening video file\")\n",
    "else:\n",
    "    while True:        \n",
    "        ret, frame = cap.read()\n",
    "\n",
    "        # Если кадр успешно прочитан\n",
    "        if ret:\n",
    "            \n",
    "            fg_mask = backSub.apply(frame)\n",
    "            \n",
    "            contours, hierarchy = cv2.findContours(fg_mask, cv2.RETR_EXTERNAL, cv2.CHAIN_APPROX_SIMPLE)\n",
    "            \n",
    "            frame_ct = cv2.drawContours(frame, contours, -1, (0, 255, 0), 2)\n",
    "            \n",
    "            cv2.imshow('Frame_final', frame_ct)\n",
    "\n",
    "            # Пороговая бинаризация\n",
    "            retval, mask_thresh = cv2.threshold(fg_mask, 180, 255, cv2.THRESH_BINARY)\n",
    "\n",
    "            # Морфологическая обработка\n",
    "            kernel = cv2.getStructuringElement(cv2.MORPH_ELLIPSE, (3, 3))\n",
    "            mask_eroded = cv2.morphologyEx(mask_thresh, cv2.MORPH_OPEN, kernel)\n",
    "\n",
    "                      \n",
    "            # Фильтрация по площади\n",
    "            min_contour_area = 500\n",
    "            large_contours = [cnt for cnt in contours if cv2.contourArea(cnt) > min_contour_area]\n",
    "\n",
    "            # Копия кадра для отрисовки контуров\n",
    "            frame_out = frame.copy()\n",
    "\n",
    "            # Отрисовка прямоугольников вокруг больших контуров\n",
    "            for cnt in large_contours:\n",
    "                x, y, w, h = cv2.boundingRect(cnt)\n",
    "                cv2.rectangle(frame_out, (x, y), (x + w, y + h), (0, 0, 200), 3)\n",
    "\n",
    "            # Показ итогового кадра\n",
    "            cv2.imshow('Frame_final', frame_out)\n",
    "\n",
    "            # Выход из цикла, если нажата клавиша 'q'\n",
    "            if cv2.waitKey(30) & 0xFF == ord('q'):\n",
    "                break\n",
    "        else:\n",
    "            break  # Выход из цикла, если кадры закончились     \n",
    "cap.release()\n",
    "cv2.destroyAllWindows()"
   ]
  },
  {
   "cell_type": "code",
   "execution_count": 97,
   "id": "63f88a0e-dcdc-428b-ab1c-c607b57dc5c6",
   "metadata": {},
   "outputs": [],
   "source": []
  },
  {
   "cell_type": "code",
   "execution_count": 98,
   "id": "4c3df43f-4830-46a6-8614-fb2975df5bc4",
   "metadata": {},
   "outputs": [],
   "source": []
  }
 ],
 "metadata": {
  "kernelspec": {
   "display_name": "Python 3 (ipykernel)",
   "language": "python",
   "name": "python3"
  },
  "language_info": {
   "codemirror_mode": {
    "name": "ipython",
    "version": 3
   },
   "file_extension": ".py",
   "mimetype": "text/x-python",
   "name": "python",
   "nbconvert_exporter": "python",
   "pygments_lexer": "ipython3",
   "version": "3.8.19"
  }
 },
 "nbformat": 4,
 "nbformat_minor": 5
}
