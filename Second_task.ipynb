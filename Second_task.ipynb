{
 "cells": [
  {
   "cell_type": "code",
   "execution_count": 8,
   "id": "0d3fd0ac-11c2-4947-bc8b-a9ef0a462c4c",
   "metadata": {},
   "outputs": [],
   "source": [
    "def max_tens(count_of_twos, count_of_threes, count_of_fours):\n",
    "    total_tens = 0\n",
    "    c2 = count_of_twos\n",
    "    c3 = count_of_threes\n",
    "    c4 = count_of_fours\n",
    "\n",
    "    # 1. Комбинация: 2 + 4 + 4\n",
    "    num1 = min(c2, c4 // 2)\n",
    "    total_tens += num1\n",
    "    c2 -= num1\n",
    "    c4 -= num1 * 2\n",
    "\n",
    "    # 2. Комбинация: 3 + 3 + 4\n",
    "    num2 = min(c3 // 2, c4)\n",
    "    total_tens += num2\n",
    "    c3 -= num2 * 2\n",
    "    c4 -= num2\n",
    "\n",
    "    # 3. Комбинация: 2 + 2 + 3 + 3\n",
    "    num3 = min(c2 // 2, c3 // 2)\n",
    "    total_tens += num3\n",
    "    c2 -= num3 * 2\n",
    "    c3 -= num3 * 2\n",
    "\n",
    "    # 4. Комбинация: 2 + 2 + 2 + 4\n",
    "    num4 = min(c2 // 3, c4)\n",
    "    total_tens += num4\n",
    "    c2 -= num4 * 3\n",
    "    c4 -= num4\n",
    "\n",
    "    # 5. Комбинация: 2 + 2 + 2 + 2 + 2\n",
    "    num5 = c2 // 5\n",
    "    total_tens += num5\n",
    "    c2 -= num5 * 5\n",
    "\n",
    "    return total_tens"
   ]
  },
  {
   "cell_type": "code",
   "execution_count": 10,
   "id": "1e52e7d7-76f3-4438-83f4-142dd455e08c",
   "metadata": {},
   "outputs": [
    {
     "name": "stdout",
     "output_type": "stream",
     "text": [
      "1\n"
     ]
    }
   ],
   "source": [
    "print (max_tens(3,0,1))"
   ]
  },
  {
   "cell_type": "code",
   "execution_count": null,
   "id": "a0ef0810-83bf-4a8e-b9fe-78e6da3d6910",
   "metadata": {},
   "outputs": [],
   "source": []
  }
 ],
 "metadata": {
  "kernelspec": {
   "display_name": "Python 3 (ipykernel)",
   "language": "python",
   "name": "python3"
  },
  "language_info": {
   "codemirror_mode": {
    "name": "ipython",
    "version": 3
   },
   "file_extension": ".py",
   "mimetype": "text/x-python",
   "name": "python",
   "nbconvert_exporter": "python",
   "pygments_lexer": "ipython3",
   "version": "3.8.19"
  }
 },
 "nbformat": 4,
 "nbformat_minor": 5
}
