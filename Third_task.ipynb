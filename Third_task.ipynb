{
 "cells": [
  {
   "cell_type": "code",
   "execution_count": 15,
   "id": "a56a840e-162e-44d7-bed7-85e4064461c9",
   "metadata": {},
   "outputs": [],
   "source": [
    "def knapsack(weights, values, maxWeight):\n",
    "    n = len(values)\n",
    "    dp = [[0] * (maxWeight + 1) for _ in range(n + 1)]\n",
    "        \n",
    "    for i in range(1, n + 1):\n",
    "        for w in range(maxWeight + 1):\n",
    "            if weights[i - 1] <= w:                \n",
    "                dp[i][w] = max(dp[i - 1][w],\n",
    "                               dp[i - 1][w - weights[i - 1]] + values[i - 1])\n",
    "            else:                \n",
    "                dp[i][w] = dp[i - 1][w]\n",
    "    \n",
    "    return dp[n][maxWeight]"
   ]
  },
  {
   "cell_type": "code",
   "execution_count": 16,
   "id": "d19a84eb-0567-4ace-b7fc-da60f7dbf6c5",
   "metadata": {},
   "outputs": [
    {
     "name": "stdout",
     "output_type": "stream",
     "text": [
      "Максимальная ценность: 13\n"
     ]
    }
   ],
   "source": [
    "weights = [1, 2, 5, 7]\n",
    "values = [3, 4, 5, 6]\n",
    "maxWeight = 10\n",
    "\n",
    "result = knapsack(weights, values, maxWeight)\n",
    "print(\"Максимальная ценность:\", result) "
   ]
  },
  {
   "cell_type": "code",
   "execution_count": null,
   "id": "21136c11-f7a1-4c28-b78e-d812abba94af",
   "metadata": {},
   "outputs": [],
   "source": []
  }
 ],
 "metadata": {
  "kernelspec": {
   "display_name": "Python 3 (ipykernel)",
   "language": "python",
   "name": "python3"
  },
  "language_info": {
   "codemirror_mode": {
    "name": "ipython",
    "version": 3
   },
   "file_extension": ".py",
   "mimetype": "text/x-python",
   "name": "python",
   "nbconvert_exporter": "python",
   "pygments_lexer": "ipython3",
   "version": "3.8.19"
  }
 },
 "nbformat": 4,
 "nbformat_minor": 5
}
